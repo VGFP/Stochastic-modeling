{
 "metadata": {
  "language_info": {
   "codemirror_mode": {
    "name": "ipython",
    "version": 3
   },
   "file_extension": ".py",
   "mimetype": "text/x-python",
   "name": "python",
   "nbconvert_exporter": "python",
   "pygments_lexer": "ipython3",
   "version": "3.7.5"
  },
  "orig_nbformat": 2,
  "kernelspec": {
   "name": "python375jvsc74a57bd057baa5815c940fdaff4d14510622de9616cae602444507ba5d0b6727c008cbd6",
   "display_name": "Python 3.7.5 64-bit"
  },
  "metadata": {
   "interpreter": {
    "hash": "57baa5815c940fdaff4d14510622de9616cae602444507ba5d0b6727c008cbd6"
   }
  }
 },
 "nbformat": 4,
 "nbformat_minor": 2,
 "cells": [
  {
   "cell_type": "code",
   "execution_count": null,
   "metadata": {},
   "outputs": [],
   "source": [
    "# Filip Przychodni Lista 3"
   ]
  },
  {
   "cell_type": "code",
   "execution_count": 5,
   "metadata": {},
   "outputs": [],
   "source": [
    "import numpy as np\n",
    "from io import StringIO "
   ]
  },
  {
   "cell_type": "code",
   "execution_count": 8,
   "metadata": {},
   "outputs": [],
   "source": [
    "# Zadanie 1\n",
    "\n",
    "# Format (6 kolumn): YYYYMMDD, HH, zonal price (cena strefowa), system load forecast (prognoza zapotrzebowania w całym systemie elektroenergetycznym), zonal load forecast (prognoza zapotrzebowania w strefie), day-of-the-week (dzień tygodnia)\n",
    "\n",
    "loaded_data = []\n",
    "\n",
    "with open(\"GEFCOM.txt\", \"r\") as file:\n",
    "    for line in file:\n",
    "        strintIO_line = StringIO(line)\n",
    "        npLine = np.loadtxt(strintIO_line)\n",
    "        loaded_data.append(npLine)\n",
    "        \n",
    "loaded_data = np.array(loaded_data)"
   ]
  },
  {
   "cell_type": "code",
   "execution_count": null,
   "metadata": {},
   "outputs": [],
   "source": []
  }
 ]
}